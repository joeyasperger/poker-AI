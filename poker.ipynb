{
 "cells": [
  {
   "cell_type": "code",
   "execution_count": null,
   "metadata": {
    "collapsed": false
   },
   "outputs": [],
   "source": [
    "type Card\n",
    "    rank::Int64\n",
    "    suit::Char\n",
    "end\n",
    "\n",
    "type Deck\n",
    "    cards::Array{Card}\n",
    "end\n",
    "\n",
    "type Hand\n",
    "    cards::Array{Card}\n",
    "end\n"
   ]
  },
  {
   "cell_type": "code",
   "execution_count": 33,
   "metadata": {
    "collapsed": false
   },
   "outputs": [
    {
     "name": "stderr",
     "output_type": "stream",
     "text": [
      "WARNING: Method definition newDeck() in module Main at In[14]:2 overwritten at In[33]:2.\n",
      "WARNING: Method definition rankString(Any) in module Main at In[14]:16 overwritten at In[33]:16.\n",
      "WARNING: Method definition emptyHand() in module Main at In[14]:30 overwritten at In[33]:30.\n",
      "WARNING: Method definition draw!(Any, Any) in module Main at In[14]:34 overwritten at In[33]:34.\n"
     ]
    },
    {
     "data": {
      "text/plain": [
       "draw! (generic function with 1 method)"
      ]
     },
     "execution_count": 33,
     "metadata": {},
     "output_type": "execute_result"
    }
   ],
   "source": [
    "function newDeck()\n",
    "    deck = Array{Card}(0)\n",
    "    for r = 2:14\n",
    "        for s = ['s','h','d','c']\n",
    "            push!(deck,Card(r,s))\n",
    "        end\n",
    "    end\n",
    "    for i=1:52\n",
    "        j = rand(1:52)\n",
    "        deck[i], deck[j] = deck[j], deck[i]\n",
    "    end\n",
    "    return deck\n",
    "end\n",
    "\n",
    "function rankString(val)\n",
    "    if val < 11\n",
    "        return string(val)\n",
    "    elseif val == 11\n",
    "        return \"Jack\"\n",
    "    elseif val == 12\n",
    "        return \"Queen\"\n",
    "    elseif val == 13\n",
    "        return \"King\"\n",
    "    else\n",
    "        return \"Ace\"\n",
    "    end\n",
    "end\n",
    "\n",
    "function emptyHand()\n",
    "    return Array{Card}(0)\n",
    "end\n",
    "\n",
    "function draw!(deck,hand)\n",
    "    return push!(hand,pop!(deck))\n",
    "end"
   ]
  },
  {
   "cell_type": "code",
   "execution_count": 57,
   "metadata": {
    "collapsed": false
   },
   "outputs": [
    {
     "name": "stderr",
     "output_type": "stream",
     "text": [
      "WARNING: Method definition evaluateHand(Any) in module Main at In[53]:2 overwritten at In[57]:2.\n"
     ]
    },
    {
     "data": {
      "text/plain": [
       "evaluateHand (generic function with 1 method)"
      ]
     },
     "execution_count": 57,
     "metadata": {},
     "output_type": "execute_result"
    }
   ],
   "source": [
    "function evaluateHand(hand)\n",
    "    flush = false\n",
    "    flushSuit = nothing\n",
    "    suits = Dict('s' => 0, 'h' => 0, 'd' => 0, 'c' => 0)\n",
    "    valArr = []\n",
    "    for i=1:size(hand,1)\n",
    "        suits[hand[i].suit] += 1\n",
    "        push!(valArr, hand[i].rank)\n",
    "    end\n",
    "    for suit in keys(suits)\n",
    "        if suits[suit] >= 5\n",
    "            flush = true\n",
    "            flushSuit = suit\n",
    "            # now check if it is straight flush\n",
    "            vals = Dict{Int64,Int64}()\n",
    "            for i=1:size(hand,1)\n",
    "                card = hand[i]\n",
    "                if card.suit == flushSuit\n",
    "                    vals[card.rank] = 1\n",
    "                end    \n",
    "            end\n",
    "            consec = 0\n",
    "            vals[1] = get(vals, 14, 0) # since ace can be high or low\n",
    "            for i=14:-1:1\n",
    "                if get(vals, i, 0) > 0\n",
    "                    consec += 1\n",
    "                else\n",
    "                    consec = 0\n",
    "                end\n",
    "                if consec == 5\n",
    "                    high = i+4\n",
    "                    text = \"Straight Flush, \" * rankString(high) * \" high\"\n",
    "                    score = (9,high)\n",
    "                    return (text,score)\n",
    "                end\n",
    "            end\n",
    "        end\n",
    "    end\n",
    "    vals = Dict{Int64,Int64}()\n",
    "    for i=1:size(hand,1)\n",
    "        card = hand[i]\n",
    "        vals[card.rank] = get(vals,card.rank,0) + 1\n",
    "    end\n",
    "    threes = Array{Int64}(0)\n",
    "    twos = Array{Int64}(0)\n",
    "    for key in keys(vals)\n",
    "        if vals[key] == 4\n",
    "            ## 4 of a kind\n",
    "            high = maximum(filter(e->e != key, valArr))\n",
    "            text = \"Four of a Kind, \" * rankString(key) * \" with \" * rankString(high) * \" high\"\n",
    "            score = (8, key * 14 + high)\n",
    "            return (text, score)\n",
    "        elseif vals[key] == 3\n",
    "            push!(threes, key)\n",
    "            push!(twos, key)\n",
    "        elseif vals[key] == 2\n",
    "            push!(twos, key)\n",
    "        end\n",
    "    end\n",
    "    if size(threes,1) > 0 && size(twos,1) > 1\n",
    "        three = maximum(threes)\n",
    "        two = maximum(filter(e->e != three, twos))\n",
    "        text = \"Full House, \" * rankString(three) * \" full of \" * rankString(two)\n",
    "        score = (7, three * 14 + two)\n",
    "        return (text, score)\n",
    "    end\n",
    "    if flush\n",
    "        high = 0\n",
    "        for i=1:size(hand,1)\n",
    "            card = hand[i]\n",
    "            if card.suit == flushSuit\n",
    "                high = max(high, card.rank)\n",
    "            end\n",
    "        end\n",
    "        text = \"Flush, \" * rankString(high) * \" high\"\n",
    "        score = (6, high)\n",
    "        return (text, score)\n",
    "    end\n",
    "    # check for straight\n",
    "    consec = 0\n",
    "    vals[1] = get(vals, 14, 0) # since ace can be high or low\n",
    "    for i=14:-1:1\n",
    "        if get(vals, i, 0) > 0\n",
    "            consec += 1\n",
    "        else\n",
    "            consec = 0\n",
    "        end\n",
    "        if consec == 5\n",
    "            high = i+4\n",
    "            text = \"Straight, \" * rankString(high) * \" high\"\n",
    "            score = (5, high)\n",
    "            return (text, score)\n",
    "        end\n",
    "    end\n",
    "    if size(threes,1) > 0\n",
    "        three = threes[1]\n",
    "        high1 = maximum(filter(e->e != three, valArr))\n",
    "        high2 = maximum(filter(e->!(e in [three,high1]), valArr))\n",
    "        text = \"Three of a kind, \"*rankString(three)*\" highs: \"*rankString(high1)*\",\"*rankString(high2)\n",
    "        score = (4, three * 14^2 + high1*14 + high2)\n",
    "        return (text, score)\n",
    "    end\n",
    "    if size(twos,1) > 1\n",
    "        highPair = maximum(twos)\n",
    "        lowPair = maximum(filter(e->e != highPair, twos))\n",
    "        high = maximum(filter(e->!(e in [highPair,lowPair]), valArr))\n",
    "        text = \"Two pair, \"*rankString(highPair)*\" and \"*rankString(lowPair)*\", \"*rankString(high)*\" high\"\n",
    "        score = (3, highPair*14^2 + lowPair*14 + high)\n",
    "        return (text, score)\n",
    "    end\n",
    "    if size(twos,1) == 1\n",
    "        pair = maximum(twos)\n",
    "        high1 = maximum(filter(e->e != pair, valArr))\n",
    "        high2 = maximum(filter(e->!(e in [pair,high1]), valArr))\n",
    "        high3 = maximum(filter(e->!(e in [pair,high1,high2]), valArr))\n",
    "        text = \"Pair: \"*rankString(pair)*\" highs: \"*rankString(high1)*\",\"*rankString(high2)*\",\"*rankString(high3)\n",
    "        score = (2, pair*14^3 + high1*14^2 + high2*14 + high3)\n",
    "        return (text, score)\n",
    "    end\n",
    "    # no hand\n",
    "    high1 = maximum(valArr)\n",
    "    high2 = maximum(filter(e->e != high1, valArr))\n",
    "    high3 = maximum(filter(e->!(e in [high1,high2]), valArr))\n",
    "    high4 = maximum(filter(e->!(e in [high1,high2,high3]), valArr))\n",
    "    high5 = maximum(filter(e->!(e in [high1,high2,high3,high4]), valArr))\n",
    "    text = \"Highs: \"*rankString(high1)*\",\"*rankString(high2)*\",\"*rankString(high3)*\",\"*rankString(high4)*\",\"*rankString(high5)\n",
    "    score = (1, high1*14^4 + high2*14^3 + high3*14^2 + high4*14 + high5)\n",
    "    return (text, score)\n",
    "end\n",
    "\n"
   ]
  },
  {
   "cell_type": "code",
   "execution_count": null,
   "metadata": {
    "collapsed": false
   },
   "outputs": [],
   "source": [
    "for j=1:1000000\n",
    "    deck = newDeck()\n",
    "    hand = emptyHand()\n",
    "    draw!(deck,hand)\n",
    "    draw!(deck,hand)\n",
    "    draw!(deck,hand)\n",
    "    draw!(deck,hand)\n",
    "    draw!(deck,hand)\n",
    "    draw!(deck,hand)\n",
    "    draw!(deck,hand)\n",
    "    evaluateHand(hand)\n",
    "    #println(hand)\n",
    "end"
   ]
  },
  {
   "cell_type": "code",
   "execution_count": 23,
   "metadata": {
    "collapsed": false
   },
   "outputs": [
    {
     "name": "stdout",
     "output_type": "stream",
     "text": [
      "Asdfasdfasdfa\n"
     ]
    },
    {
     "data": {
      "text/plain": [
       "(\"Straight Flush, Jack High\",(9,11))"
      ]
     },
     "execution_count": 23,
     "metadata": {},
     "output_type": "execute_result"
    }
   ],
   "source": [
    "evaluateHand(hand)"
   ]
  },
  {
   "cell_type": "code",
   "execution_count": 62,
   "metadata": {
    "collapsed": false
   },
   "outputs": [
    {
     "data": {
      "text/plain": [
       "7-element Array{Card,1}:\n",
       " Card(10,'c')\n",
       " Card(4,'c') \n",
       " Card(5,'c') \n",
       " Card(6,'c') \n",
       " Card(14,'s')\n",
       " Card(2,'h') \n",
       " Card(12,'s')"
      ]
     },
     "execution_count": 62,
     "metadata": {},
     "output_type": "execute_result"
    }
   ],
   "source": [
    "hand = [Card(10,'c'), Card(4,'c'), Card(5,'c'), Card(6,'c'), Card(14,'s'),Card(2,'h'),Card(12,'s')]"
   ]
  },
  {
   "cell_type": "code",
   "execution_count": 63,
   "metadata": {
    "collapsed": false
   },
   "outputs": [
    {
     "name": "stdout",
     "output_type": "stream",
     "text": [
      "(\"Highs: Ace,Queen,10,6,5\",(1,572801))\n"
     ]
    }
   ],
   "source": [
    "println(evaluateHand(hand))"
   ]
  },
  {
   "cell_type": "code",
   "execution_count": 11,
   "metadata": {
    "collapsed": false
   },
   "outputs": [
    {
     "data": {
      "text/plain": [
       "Tuple{Int64,Int64}"
      ]
     },
     "execution_count": 11,
     "metadata": {},
     "output_type": "execute_result"
    }
   ],
   "source": [
    "typeof(a)"
   ]
  },
  {
   "cell_type": "code",
   "execution_count": null,
   "metadata": {
    "collapsed": true
   },
   "outputs": [],
   "source": []
  }
 ],
 "metadata": {
  "kernelspec": {
   "display_name": "Julia 0.5.0",
   "language": "julia",
   "name": "julia-0.5"
  },
  "language_info": {
   "file_extension": ".jl",
   "mimetype": "application/julia",
   "name": "julia",
   "version": "0.5.0"
  }
 },
 "nbformat": 4,
 "nbformat_minor": 1
}
