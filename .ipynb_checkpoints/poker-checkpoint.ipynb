{
 "cells": [
  {
   "cell_type": "code",
   "execution_count": 1,
   "metadata": {
    "collapsed": false
   },
   "outputs": [],
   "source": [
    "type Card\n",
    "    rank::Int64\n",
    "    suit::Char\n",
    "end\n",
    "\n",
    "type Deck\n",
    "    cards::Array{Card}\n",
    "end\n",
    "\n",
    "type Hand\n",
    "    cards::Array{Card}\n",
    "end\n"
   ]
  },
  {
   "cell_type": "code",
   "execution_count": 3,
   "metadata": {
    "collapsed": false
   },
   "outputs": [
    {
     "name": "stderr",
     "output_type": "stream",
     "text": [
      "WARNING: Method definition newDeck() in module Main at In[2]:2 overwritten at In[3]:2.\n",
      "WARNING: Method definition emptyHand() in module Main at In[2]:16 overwritten at In[3]:16.\n",
      "WARNING: Method definition draw!(Any, Any) in module Main at In[2]:20 overwritten at In[3]:20.\n"
     ]
    },
    {
     "data": {
      "text/plain": [
       "evaluateHand (generic function with 1 method)"
      ]
     },
     "execution_count": 3,
     "metadata": {},
     "output_type": "execute_result"
    }
   ],
   "source": [
    "function newDeck()\n",
    "    deck = Array{Card}(0)\n",
    "    for r = 2:14\n",
    "        for s = ['s','h','d','c']\n",
    "            push!(deck,Card(r,s))\n",
    "        end\n",
    "    end\n",
    "    for i=1:52\n",
    "        j = rand(1:52)\n",
    "        deck[i], deck[j] = deck[j], deck[i]\n",
    "    end\n",
    "    return deck\n",
    "end\n",
    "\n",
    "function emptyHand()\n",
    "    return Array{Card}(0)\n",
    "end\n",
    "\n",
    "function draw!(deck,hand)\n",
    "    return push!(hand,pop!(deck))\n",
    "end"
   ]
  },
  {
   "cell_type": "code",
   "execution_count": 243,
   "metadata": {
    "collapsed": false
   },
   "outputs": [
    {
     "name": "stderr",
     "output_type": "stream",
     "text": [
      "WARNING: Method definition evaluateHand(Any) in module Main at In[20]:2 overwritten at In[243]:2.\n"
     ]
    },
    {
     "data": {
      "text/plain": [
       "evaluateHand (generic function with 1 method)"
      ]
     },
     "execution_count": 243,
     "metadata": {},
     "output_type": "execute_result"
    }
   ],
   "source": [
    "function evaluateHand(hand)\n",
    "    flush = false\n",
    "    flushSuit = nothing\n",
    "    suits = Dict('s' => 0, 'h' => 0, 'd' => 0, 'c' => 0)\n",
    "    valArr = []\n",
    "    for i=1:size(hand,1)\n",
    "        suits[hand[i].suit] += 1\n",
    "        push!(valArr, hand[i].rank)\n",
    "    end\n",
    "    for suit in keys(suits)\n",
    "        if suits[suit] >= 5\n",
    "            flush = true\n",
    "            flushSuit = suit\n",
    "            # now check if it is straight flush\n",
    "            vals = Dict{Int64,Int64}()\n",
    "            for i=1:size(hand,1)\n",
    "                card = hand[i]\n",
    "                if card.suit == flushSuit\n",
    "                    vals[card.rank] = 1\n",
    "                end    \n",
    "            end\n",
    "            consec = 0\n",
    "            vals[1] = get(vals, 14, 0) # since ace can be high or low\n",
    "            for i=14:-1:1\n",
    "                if get(vals, i, 0) > 0\n",
    "                    consec += 1\n",
    "                else\n",
    "                    consec = 0\n",
    "                end\n",
    "                if consec == 5\n",
    "                    println(\"straight flush\", i+4)\n",
    "                    println(hand)\n",
    "                    return\n",
    "                end\n",
    "            end\n",
    "        end\n",
    "    end\n",
    "    vals = Dict{Int64,Int64}()\n",
    "    for i=1:size(hand,1)\n",
    "        card = hand[i]\n",
    "        vals[card.rank] = get(vals,card.rank,0) + 1\n",
    "    end\n",
    "    threes = Array{Int64}(0)\n",
    "    twos = Array{Int64}(0)\n",
    "    for key in keys(vals)\n",
    "        if vals[key] == 4\n",
    "            ## 4 of a kind\n",
    "            high = maximum(filter(e->e != key, valArr))\n",
    "#             println(\"4 a kind \", key, \" high \", high)\n",
    "            return\n",
    "        elseif vals[key] == 3\n",
    "            push!(threes, key)\n",
    "            push!(twos, key)\n",
    "        elseif vals[key] == 2\n",
    "            push!(twos, key)\n",
    "        end\n",
    "    end\n",
    "    if size(threes,1) > 0 && size(twos,1) > 1\n",
    "        three = maximum(threes)\n",
    "        two = maximum(filter(e->e != three, twos))\n",
    "#         println(\"full house: \", three, ' ', two)\n",
    "        return\n",
    "    end\n",
    "    if flush\n",
    "        high = 0\n",
    "        for i=1:size(hand,1)\n",
    "            card = hand[i]\n",
    "            if card.suit == flushSuit\n",
    "                high = max(high, card.rank)\n",
    "            end\n",
    "        end\n",
    "#         println(\"flush \", high)\n",
    "        return\n",
    "    end\n",
    "    # check for straight\n",
    "    consec = 0\n",
    "    vals[1] = get(vals, 14, 0) # since ace can be high or low\n",
    "    for i=14:-1:1\n",
    "        if get(vals, i, 0) > 0\n",
    "            consec += 1\n",
    "        else\n",
    "            consec = 0\n",
    "        end\n",
    "        if consec == 5\n",
    "#             println(\"straight\", i+4)\n",
    "            return\n",
    "        end\n",
    "    end\n",
    "    if size(threes,1) > 0\n",
    "        three = threes[1]\n",
    "        high1 = maximum(filter(e->e != three, valArr))\n",
    "        high2 = maximum(filter(e->!(e in [three,high1]), valArr))\n",
    "#         println(\"3 of a kind: \", threes[1], \" highs \", high1, \" \", high2)\n",
    "        return\n",
    "    end\n",
    "    if size(twos,1) > 1\n",
    "        highPair = maximum(twos)\n",
    "        lowPair = maximum(filter(e->e != highPair, twos))\n",
    "        high = maximum(filter(e->!(e in [highPair,lowPair]), valArr))\n",
    "#         println(\"2 pair: \", highPair, \" \", lowPair, \" high \", high)\n",
    "        return\n",
    "    end\n",
    "    if size(twos,1) == 1\n",
    "        pair = maximum(twos)\n",
    "        high1 = maximum(filter(e->e != pair, valArr))\n",
    "        high2 = maximum(filter(e->!(e in [pair,high1]), valArr))\n",
    "        high3 = maximum(filter(e->!(e in [pair,high1,high2]), valArr))\n",
    "#         println(\"pair: \", pair, \" high \", high1, \" \", high2,\" \", high3)\n",
    "        return\n",
    "    end\n",
    "    # no hand\n",
    "    high1 = maximum(valArr)\n",
    "    high2 = maximum(filter(e->e != high1, valArr))\n",
    "    high3 = maximum(filter(e->!(e in [high1,high2]), valArr))\n",
    "    high4 = maximum(filter(e->!(e in [high1,high2,high3]), valArr))\n",
    "    high5 = maximum(filter(e->!(e in [high1,high2,high3,high4]), valArr))\n",
    "#     println(\" high \", high1, \" \", high2,\" \", high3,\" \", high4,\" \", high5)\n",
    "end\n",
    "\n"
   ]
  },
  {
   "cell_type": "code",
   "execution_count": 253,
   "metadata": {
    "collapsed": false
   },
   "outputs": [
    {
     "name": "stdout",
     "output_type": "stream",
     "text": [
      "straight flush14\n",
      "Card[Card(12,'h'),Card(10,'h'),Card(13,'h'),Card(14,'h'),Card(14,'s'),Card(11,'h'),Card(10,'c')]\n",
      "straight flush6\n",
      "Card[Card(6,'s'),Card(3,'d'),Card(6,'d'),Card(2,'d'),Card(5,'h'),Card(5,'d'),Card(4,'d')]\n",
      "straight flush8\n",
      "Card[Card(14,'d'),Card(5,'s'),Card(13,'s'),Card(6,'s'),Card(4,'s'),Card(7,'s'),Card(8,'s')]\n",
      "straight flush7\n",
      "Card[Card(11,'d'),Card(5,'d'),Card(7,'c'),Card(3,'d'),Card(6,'d'),Card(4,'d'),Card(7,'d')]\n",
      "straight flush10\n",
      "Card[Card(8,'s'),Card(5,'h'),Card(10,'s'),Card(9,'s'),Card(7,'s'),Card(13,'d'),Card(6,'s')]\n",
      "straight flush10\n",
      "Card[Card(8,'s'),Card(6,'s'),Card(3,'d'),Card(10,'s'),Card(14,'h'),Card(9,'s'),Card(7,'s')]\n",
      "straight flush7\n",
      "Card[Card(7,'d'),Card(5,'d'),Card(3,'d'),Card(12,'d'),Card(10,'h'),Card(6,'d'),Card(4,'d')]\n",
      "straight flush13\n",
      "Card[Card(11,'h'),Card(11,'d'),Card(13,'d'),Card(9,'d'),Card(10,'d'),Card(7,'c'),Card(12,'d')]\n",
      "straight flush5\n",
      "Card[Card(11,'d'),Card(5,'d'),Card(5,'h'),Card(2,'h'),Card(14,'h'),Card(3,'h'),Card(4,'h')]\n",
      "straight flush10\n",
      "Card[Card(6,'s'),Card(7,'s'),Card(10,'s'),Card(9,'s'),Card(8,'s'),Card(12,'c'),Card(2,'h')]\n",
      "straight flush11\n",
      "Card[Card(3,'c'),Card(7,'h'),Card(8,'s'),Card(8,'h'),Card(10,'h'),Card(11,'h'),Card(9,'h')]\n",
      "straight flush13\n",
      "Card[Card(13,'c'),Card(2,'c'),Card(12,'c'),Card(9,'c'),Card(11,'c'),Card(12,'h'),Card(10,'c')]\n",
      "straight flush5\n",
      "Card[Card(3,'c'),Card(12,'s'),Card(14,'c'),Card(12,'c'),Card(2,'c'),Card(5,'c'),Card(4,'c')]\n",
      "straight flush9\n",
      "Card[Card(9,'s'),Card(7,'h'),Card(5,'s'),Card(7,'s'),Card(8,'s'),Card(6,'s'),Card(6,'h')]\n",
      "straight flush7\n",
      "Card[Card(4,'h'),Card(7,'h'),Card(6,'h'),Card(5,'h'),Card(3,'h'),Card(6,'c'),Card(13,'c')]\n",
      "straight flush6\n",
      "Card[Card(4,'c'),Card(3,'c'),Card(6,'c'),Card(11,'s'),Card(2,'c'),Card(4,'h'),Card(5,'c')]\n",
      "straight flush11\n",
      "Card[Card(8,'c'),Card(9,'d'),Card(11,'c'),Card(7,'c'),Card(9,'c'),Card(4,'s'),Card(10,'c')]\n",
      "straight flush7\n",
      "Card[Card(6,'s'),Card(8,'c'),Card(12,'s'),Card(3,'s'),Card(5,'s'),Card(7,'s'),Card(4,'s')]\n",
      "straight flush14\n",
      "Card[Card(11,'c'),Card(12,'c'),Card(14,'c'),Card(10,'c'),Card(13,'d'),Card(7,'c'),Card(13,'c')]\n",
      "straight flush12\n",
      "Card[Card(12,'d'),Card(12,'c'),Card(10,'c'),Card(11,'c'),Card(8,'c'),Card(8,'h'),Card(9,'c')]\n",
      "straight flush13\n",
      "Card[Card(9,'d'),Card(12,'d'),Card(10,'d'),Card(12,'c'),Card(2,'h'),Card(11,'d'),Card(13,'d')]\n",
      "straight flush10\n",
      "Card[Card(2,'h'),Card(8,'c'),Card(9,'c'),Card(6,'s'),Card(7,'c'),Card(6,'c'),Card(10,'c')]\n",
      "straight flush7\n",
      "Card[Card(14,'c'),Card(5,'h'),Card(3,'h'),Card(11,'s'),Card(4,'h'),Card(6,'h'),Card(7,'h')]\n",
      "straight flush9\n",
      "Card[Card(8,'s'),Card(5,'s'),Card(9,'s'),Card(6,'c'),Card(7,'s'),Card(2,'s'),Card(6,'s')]\n",
      "straight flush14\n",
      "Card[Card(11,'h'),Card(14,'h'),Card(2,'c'),Card(13,'h'),Card(10,'h'),Card(12,'h'),Card(6,'s')]\n",
      "straight flush11\n",
      "Card[Card(7,'h'),Card(8,'h'),Card(6,'c'),Card(10,'h'),Card(11,'h'),Card(2,'d'),Card(9,'h')]\n",
      "straight flush11\n",
      "Card[Card(10,'h'),Card(8,'h'),Card(11,'h'),Card(7,'h'),Card(11,'s'),Card(9,'h'),Card(9,'s')]\n",
      "straight flush6\n",
      "Card[Card(4,'s'),Card(3,'s'),Card(2,'s'),Card(5,'s'),Card(6,'s'),Card(8,'c'),Card(8,'h')]\n"
     ]
    }
   ],
   "source": [
    "for j=1:100000\n",
    "    deck = newDeck()\n",
    "    hand = emptyHand()\n",
    "    draw!(deck,hand)\n",
    "    draw!(deck,hand)\n",
    "    draw!(deck,hand)\n",
    "    draw!(deck,hand)\n",
    "    draw!(deck,hand)\n",
    "    draw!(deck,hand)\n",
    "    draw!(deck,hand)\n",
    "    evaluateHand(hand)\n",
    "    #println(hand)\n",
    "end"
   ]
  },
  {
   "cell_type": "code",
   "execution_count": 21,
   "metadata": {
    "collapsed": false
   },
   "outputs": [
    {
     "name": "stdout",
     "output_type": "stream",
     "text": [
      "full house: 2 8\n"
     ]
    }
   ],
   "source": [
    "evaluateHand(hand)"
   ]
  },
  {
   "cell_type": "code",
   "execution_count": 14,
   "metadata": {
    "collapsed": false
   },
   "outputs": [
    {
     "data": {
      "text/plain": [
       "7-element Array{Card,1}:\n",
       " Card(7,'c') \n",
       " Card(11,'d')\n",
       " Card(9,'c') \n",
       " Card(2,'c') \n",
       " Card(13,'s')\n",
       " Card(14,'d')\n",
       " Card(5,'s') "
      ]
     },
     "execution_count": 14,
     "metadata": {},
     "output_type": "execute_result"
    }
   ],
   "source": [
    "hand = [Card(7,'c'), Card(11,'d'), Card(9,'c'), Card(2,'c'), Card(13,'s'),Card(14,'d'),Card(5,'s')]"
   ]
  }
 ],
 "metadata": {
  "kernelspec": {
   "display_name": "Julia 0.5.0",
   "language": "julia",
   "name": "julia-0.5"
  },
  "language_info": {
   "file_extension": ".jl",
   "mimetype": "application/julia",
   "name": "julia",
   "version": "0.5.0"
  }
 },
 "nbformat": 4,
 "nbformat_minor": 1
}
