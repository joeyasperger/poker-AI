{
 "cells": [
  {
   "cell_type": "code",
   "execution_count": 2,
   "metadata": {
    "collapsed": false
   },
   "outputs": [
    {
     "name": "stderr",
     "output_type": "stream",
     "text": [
      "WARNING: Method definition (::Type{Main.Card})(Int64, Char) in module Main at In[1]:2 overwritten at In[2]:2.\n",
      "WARNING: Method definition (::Type{Main.Card})(Any, Any) in module Main at In[1]:2 overwritten at In[2]:2.\n",
      "WARNING: Method definition (::Type{Main.Deck})(Array{Main.Card, N<:Any}) in module Main at In[1]:7 overwritten at In[2]:7.\n",
      "WARNING: Method definition (::Type{Main.Deck})(Any) in module Main at In[1]:7 overwritten at In[2]:7.\n",
      "WARNING: Method definition (::Type{Main.Hand})(Array{Main.Card, N<:Any}) in module Main at In[1]:11 overwritten at In[2]:11.\n",
      "WARNING: Method definition (::Type{Main.Hand})(Any) in module Main at In[1]:11 overwritten at In[2]:11.\n"
     ]
    }
   ],
   "source": [
    "type Card\n",
    "    rank::Int64\n",
    "    suit::Char\n",
    "end\n",
    "\n",
    "type Deck\n",
    "    cards::Array{Card}\n",
    "end\n",
    "\n",
    "type Hand\n",
    "    cards::Array{Card}\n",
    "end\n"
   ]
  },
  {
   "cell_type": "code",
   "execution_count": 32,
   "metadata": {
    "collapsed": false
   },
   "outputs": [
    {
     "name": "stderr",
     "output_type": "stream",
     "text": [
      "WARNING: Method definition newDeck() in module Main at In[5]:2 overwritten at In[32]:2.\n",
      "WARNING: Method definition emptyHand() in module Main at In[5]:16 overwritten at In[32]:16.\n",
      "WARNING: Method definition draw!(Any, Any) in module Main at In[5]:20 overwritten at In[32]:20.\n"
     ]
    },
    {
     "ename": "LoadError",
     "evalue": "LoadError: syntax: incomplete: \"function\" at In[32]:23 requires end\nwhile loading In[32], in expression starting on line 23",
     "output_type": "error",
     "traceback": [
      "LoadError: syntax: incomplete: \"function\" at In[32]:23 requires end\nwhile loading In[32], in expression starting on line 23",
      ""
     ]
    }
   ],
   "source": [
    "function newDeck()\n",
    "    deck = Array{Card}(0)\n",
    "    for r = 2:14\n",
    "        for s = ['s','h','d','c']\n",
    "            push!(deck,Card(r,s))\n",
    "        end\n",
    "    end\n",
    "    for i=1:52\n",
    "        j = rand(1:52)\n",
    "        deck[i], deck[j] = deck[j], deck[i]\n",
    "    end\n",
    "    return deck\n",
    "end\n",
    "\n",
    "function emptyHand()\n",
    "    return Array{Card}(0)\n",
    "end\n",
    "\n",
    "function draw!(deck,hand)\n",
    "    return push!(hand,pop!(deck))\n",
    "end\n",
    "\n",
    "function evaluateHand(hand)\n",
    "    flush = false\n",
    "    suits = Dict('s' => 0, 'h' => 0, 'd' => 0, 'c' => 0)\n",
    "    for i=1:size(hand,1)\n",
    "        suits[hand[i].suit] += 1\n",
    "          \n",
    "end"
   ]
  },
  {
   "cell_type": "code",
   "execution_count": 4,
   "metadata": {
    "collapsed": false
   },
   "outputs": [
    {
     "data": {
      "text/plain": [
       "5-element Array{Card,1}:\n",
       " Card(13,'c')\n",
       " Card(14,'d')\n",
       " Card(14,'s')\n",
       " Card(5,'s') \n",
       " Card(10,'d')"
      ]
     },
     "execution_count": 4,
     "metadata": {},
     "output_type": "execute_result"
    }
   ],
   "source": [
    "deck = newDeck()\n",
    "hand = emptyHand()\n",
    "draw!(deck,hand)\n",
    "draw!(deck,hand)\n",
    "draw!(deck,hand)\n",
    "draw!(deck,hand)\n",
    "draw!(deck,hand)"
   ]
  },
  {
   "cell_type": "code",
   "execution_count": 60,
   "metadata": {
    "collapsed": false
   },
   "outputs": [
    {
     "name": "stdout",
     "output_type": "stream",
     "text": [
      "flush\n",
      "Dict(7=>1,9=>1,2=>1,11=>1,8=>1,1=>0)\n",
      "flush 11\n"
     ]
    }
   ],
   "source": [
    "hand = [Card(7,'c'), Card(9,'c'), Card(11,'c'), Card(8,'c'), Card(2,'c'),Card(8,'d')]\n",
    "flush = false\n",
    "flushSuit = nothing\n",
    "suits = Dict('s' => 0, 'h' => 0, 'd' => 0, 'c' => 0)\n",
    "for i=1:size(hand,1)\n",
    "    suits[hand[i].suit] += 1\n",
    "end\n",
    "for suit in keys(suits)\n",
    "    if suits[suit] >= 5\n",
    "        flush = true\n",
    "        flushSuit = suit\n",
    "        println(\"flush\")\n",
    "        # now check if it is straight flush\n",
    "        vals = Dict{Int64,Int64}()\n",
    "        for i=1:size(hand,1)\n",
    "            card = hand[i]\n",
    "            if card.suit == flushSuit\n",
    "                vals[card.rank] = 1\n",
    "            end    \n",
    "        end\n",
    "        consec = 0\n",
    "        vals[1] = get(vals, 14, 0) # since ace can be high or low\n",
    "        for i=14:-1:1\n",
    "            if get(vals, i, 0) > 0\n",
    "                consec += 1\n",
    "            else\n",
    "                consec = 0\n",
    "            end\n",
    "            if consec == 5\n",
    "                println(\"straight flush\", i+4)\n",
    "            end\n",
    "        end\n",
    "    end\n",
    "end\n",
    "vals = Dict{Int64,Int64}()\n",
    "for i=1:size(hand,1)\n",
    "    card = hand[i]\n",
    "    vals[card.rank] = get(vals,card.rank,0) + 1\n",
    "end\n",
    "threes = Array{Int64}(0)\n",
    "twos = Array{Int64}(0)\n",
    "for key in keys(vals)\n",
    "    if vals[key] == 4\n",
    "        println(\"4 a kind \", key)\n",
    "    elseif vals[key] == 3\n",
    "        push!(threes, key)\n",
    "        push!(twos, key)\n",
    "    elseif vals[key] == 2\n",
    "        push!(twos, key)\n",
    "    end\n",
    "end\n",
    "if size(threes,1) > 0\n",
    "    three = maximum(threes)\n",
    "    two = maximum(filter(e->e != three, twos))\n",
    "    println(\"full house: \", three, ' ', two)\n",
    "end\n",
    "if flush\n",
    "    high = 0\n",
    "    for i=1:size(hand,1)\n",
    "        card = hand[i]\n",
    "        if card.suit == flushSuit\n",
    "            high = max(high, card.rank)\n",
    "        end\n",
    "    end\n",
    "    println(\"flush \", high)\n",
    "end\n",
    "# check for straight\n",
    "consec = 0\n",
    "vals[1] = get(vals, 14, 0) # since ace can be high or low\n",
    "for i=14:-1:1\n",
    "    if get(vals, i, 0) > 0\n",
    "        consec += 1\n",
    "    else\n",
    "        consec = 0\n",
    "    end\n",
    "    if consec == 5\n",
    "        println(\"straight\", i+4)\n",
    "    end\n",
    "end\n"
   ]
  },
  {
   "cell_type": "code",
   "execution_count": 57,
   "metadata": {
    "collapsed": false
   },
   "outputs": [
    {
     "data": {
      "text/plain": [
       "Dict{Char,Int64} with 4 entries:\n",
       "  'd' => 1\n",
       "  's' => 0\n",
       "  'h' => 1\n",
       "  'c' => 4"
      ]
     },
     "execution_count": 57,
     "metadata": {},
     "output_type": "execute_result"
    }
   ],
   "source": [
    "suits"
   ]
  },
  {
   "cell_type": "code",
   "execution_count": null,
   "metadata": {
    "collapsed": false
   },
   "outputs": [],
   "source": [
    "a = Array[[1,2], [3,4]]\n",
    "push!(a, rand(1:100, 5))"
   ]
  },
  {
   "cell_type": "code",
   "execution_count": null,
   "metadata": {
    "collapsed": false
   },
   "outputs": [],
   "source": [
    "a"
   ]
  },
  {
   "cell_type": "code",
   "execution_count": null,
   "metadata": {
    "collapsed": false
   },
   "outputs": [],
   "source": [
    "arr = Array{Card}(0)"
   ]
  },
  {
   "cell_type": "code",
   "execution_count": null,
   "metadata": {
    "collapsed": false
   },
   "outputs": [],
   "source": [
    "push!(arr,Card(4,'s'))"
   ]
  },
  {
   "cell_type": "code",
   "execution_count": null,
   "metadata": {
    "collapsed": false
   },
   "outputs": [],
   "source": [
    "arr"
   ]
  },
  {
   "cell_type": "code",
   "execution_count": null,
   "metadata": {
    "collapsed": false
   },
   "outputs": [],
   "source": [
    "a,b = 0,0"
   ]
  },
  {
   "cell_type": "code",
   "execution_count": null,
   "metadata": {
    "collapsed": false
   },
   "outputs": [],
   "source": [
    "a"
   ]
  },
  {
   "cell_type": "code",
   "execution_count": null,
   "metadata": {
    "collapsed": false
   },
   "outputs": [],
   "source": [
    "b\n"
   ]
  },
  {
   "cell_type": "code",
   "execution_count": null,
   "metadata": {
    "collapsed": false
   },
   "outputs": [],
   "source": [
    "suits = Dict(\"d\" => 3)"
   ]
  },
  {
   "cell_type": "code",
   "execution_count": 15,
   "metadata": {
    "collapsed": false
   },
   "outputs": [
    {
     "name": "stdout",
     "output_type": "stream",
     "text": [
      "14\n",
      "13\n",
      "12\n",
      "11\n",
      "10\n",
      "9\n",
      "8\n",
      "7\n",
      "6\n",
      "5\n",
      "4\n",
      "3\n",
      "2\n",
      "1\n"
     ]
    }
   ],
   "source": [
    "for i=14:-1:1\n",
    "    println(i)\n",
    "end"
   ]
  },
  {
   "cell_type": "code",
   "execution_count": 33,
   "metadata": {
    "collapsed": false
   },
   "outputs": [
    {
     "data": {
      "text/plain": [
       "0-element Array{Any,1}"
      ]
     },
     "execution_count": 33,
     "metadata": {},
     "output_type": "execute_result"
    }
   ],
   "source": [
    "x = []"
   ]
  },
  {
   "cell_type": "code",
   "execution_count": 34,
   "metadata": {
    "collapsed": false
   },
   "outputs": [
    {
     "ename": "LoadError",
     "evalue": "LoadError: type Array has no field append\nwhile loading In[34], in expression starting on line 1",
     "output_type": "error",
     "traceback": [
      "LoadError: type Array has no field append\nwhile loading In[34], in expression starting on line 1",
      ""
     ]
    }
   ],
   "source": [
    "x.append(1)"
   ]
  },
  {
   "cell_type": "code",
   "execution_count": 36,
   "metadata": {
    "collapsed": false
   },
   "outputs": [
    {
     "data": {
      "text/plain": [
       "1-element Array{Any,1}:\n",
       " 1"
      ]
     },
     "execution_count": 36,
     "metadata": {},
     "output_type": "execute_result"
    }
   ],
   "source": [
    "push!(x,1)"
   ]
  }
 ],
 "metadata": {
  "kernelspec": {
   "display_name": "Julia 0.5.0",
   "language": "julia",
   "name": "julia-0.5"
  },
  "language_info": {
   "file_extension": ".jl",
   "mimetype": "application/julia",
   "name": "julia",
   "version": "0.5.0"
  }
 },
 "nbformat": 4,
 "nbformat_minor": 1
}
